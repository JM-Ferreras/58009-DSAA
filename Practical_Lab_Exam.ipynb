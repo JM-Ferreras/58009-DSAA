{
  "nbformat": 4,
  "nbformat_minor": 0,
  "metadata": {
    "colab": {
      "provenance": [],
      "authorship_tag": "ABX9TyMrgr3jlegbbkncrhjXu13r",
      "include_colab_link": true
    },
    "kernelspec": {
      "name": "python3",
      "display_name": "Python 3"
    },
    "language_info": {
      "name": "python"
    }
  },
  "cells": [
    {
      "cell_type": "markdown",
      "metadata": {
        "id": "view-in-github",
        "colab_type": "text"
      },
      "source": [
        "<a href=\"https://colab.research.google.com/github/JM-Ferreras/58009-DSAA/blob/main/Practical_Lab_Exam.ipynb\" target=\"_parent\"><img src=\"https://colab.research.google.com/assets/colab-badge.svg\" alt=\"Open In Colab\"/></a>"
      ]
    },
    {
      "cell_type": "code",
      "execution_count": 1,
      "metadata": {
        "colab": {
          "base_uri": "https://localhost:8080/"
        },
        "id": "xSJauAP1bTX6",
        "outputId": "471380a9-64ef-4b93-f152-19ecacf630f0"
      },
      "outputs": [
        {
          "output_type": "stream",
          "name": "stdout",
          "text": [
            "211\n"
          ]
        }
      ],
      "source": [
        "nums=[26,49,98,87,62,75]\n",
        "loop=0\n",
        "total=0\n",
        "while loop<=5:\n",
        "    if (nums[loop])%2==0:\n",
        "        total = total + 0\n",
        "    else:\n",
        "        total = total + nums[loop]\n",
        "    loop+=1\n",
        "print(total)"
      ]
    }
  ]
}