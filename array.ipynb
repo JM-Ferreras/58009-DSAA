{
  "nbformat": 4,
  "nbformat_minor": 0,
  "metadata": {
    "colab": {
      "provenance": [],
      "authorship_tag": "ABX9TyN8d1ntmLEdv+SNzG6K1Rts",
      "include_colab_link": true
    },
    "kernelspec": {
      "name": "python3",
      "display_name": "Python 3"
    },
    "language_info": {
      "name": "python"
    }
  },
  "cells": [
    {
      "cell_type": "markdown",
      "metadata": {
        "id": "view-in-github",
        "colab_type": "text"
      },
      "source": [
        "<a href=\"https://colab.research.google.com/github/JM-Ferreras/58009-DSAA/blob/main/array.ipynb\" target=\"_parent\"><img src=\"https://colab.research.google.com/assets/colab-badge.svg\" alt=\"Open In Colab\"/></a>"
      ]
    },
    {
      "cell_type": "code",
      "execution_count": 1,
      "metadata": {
        "colab": {
          "base_uri": "https://localhost:8080/"
        },
        "id": "p5Ga8R6lezaN",
        "outputId": "3559f8e9-72cb-46a0-9fa5-41ce2cb3575e"
      },
      "outputs": [
        {
          "output_type": "stream",
          "name": "stdout",
          "text": [
            "['legs', 'arms', 'torso']\n"
          ]
        }
      ],
      "source": [
        "#Accessing the elements in Array\n",
        "parts=[\"legs\",\"arms\",\"torso\"]\n",
        "print(parts)"
      ]
    },
    {
      "cell_type": "code",
      "source": [
        "#length of array\n",
        "parts=[\"legs\",\"arms\",\"torso\"]\n",
        "x=len(parts)\n",
        "print(x)"
      ],
      "metadata": {
        "colab": {
          "base_uri": "https://localhost:8080/"
        },
        "id": "N4SkYnbNe0_m",
        "outputId": "92c97ed5-a3e0-4e16-d972-2c4d89b706fa"
      },
      "execution_count": 2,
      "outputs": [
        {
          "output_type": "stream",
          "name": "stdout",
          "text": [
            "3\n"
          ]
        }
      ]
    },
    {
      "cell_type": "code",
      "source": [
        "#looping array\n",
        "parts=[\"legs\",\"arms\",\"torso\"]\n",
        "for x in parts:\n",
        "  print(x)"
      ],
      "metadata": {
        "colab": {
          "base_uri": "https://localhost:8080/"
        },
        "id": "NXoJ3Pgse3eV",
        "outputId": "43696142-441b-4814-8a2f-be4a2651d9b9"
      },
      "execution_count": 3,
      "outputs": [
        {
          "output_type": "stream",
          "name": "stdout",
          "text": [
            "legs\n",
            "arms\n",
            "torso\n"
          ]
        }
      ]
    },
    {
      "cell_type": "code",
      "source": [
        "#Adding elements in array\n",
        "parts=[\"legs\",\"arms\",\"torso\"]\n",
        "parts.append(\"head\")\n",
        "print(parts)"
      ],
      "metadata": {
        "colab": {
          "base_uri": "https://localhost:8080/"
        },
        "id": "ZP7Nnzrae5Dt",
        "outputId": "4084c3bf-65f0-481e-f7b3-c40952a2a729"
      },
      "execution_count": 4,
      "outputs": [
        {
          "output_type": "stream",
          "name": "stdout",
          "text": [
            "['legs', 'arms', 'torso', 'head']\n"
          ]
        }
      ]
    },
    {
      "cell_type": "code",
      "source": [
        "parts=[\"legs\",\"arms\",\"torso\"]\n",
        "parts.pop(1)\n",
        "print(parts)"
      ],
      "metadata": {
        "colab": {
          "base_uri": "https://localhost:8080/"
        },
        "id": "XcRCit-Ze6lF",
        "outputId": "f16778e9-e56c-4827-d652-c8e8aabe7f78"
      },
      "execution_count": 5,
      "outputs": [
        {
          "output_type": "stream",
          "name": "stdout",
          "text": [
            "['legs', 'torso']\n"
          ]
        }
      ]
    }
  ]
}