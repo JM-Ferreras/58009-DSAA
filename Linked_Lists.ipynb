{
  "nbformat": 4,
  "nbformat_minor": 0,
  "metadata": {
    "colab": {
      "provenance": [],
      "authorship_tag": "ABX9TyOyLhmcfYxd7kJnwcFk06QN",
      "include_colab_link": true
    },
    "kernelspec": {
      "name": "python3",
      "display_name": "Python 3"
    },
    "language_info": {
      "name": "python"
    }
  },
  "cells": [
    {
      "cell_type": "markdown",
      "metadata": {
        "id": "view-in-github",
        "colab_type": "text"
      },
      "source": [
        "<a href=\"https://colab.research.google.com/github/JM-Ferreras/58009-DSAA/blob/main/Linked_Lists.ipynb\" target=\"_parent\"><img src=\"https://colab.research.google.com/assets/colab-badge.svg\" alt=\"Open In Colab\"/></a>"
      ]
    },
    {
      "cell_type": "code",
      "execution_count": 4,
      "metadata": {
        "colab": {
          "base_uri": "https://localhost:8080/",
          "height": 35
        },
        "id": "JJOiRnp4uD3-",
        "outputId": "8930c652-9fbd-4853-807a-d701c1cfa605"
      },
      "outputs": [
        {
          "output_type": "execute_result",
          "data": {
            "text/plain": [
              "'f'"
            ],
            "application/vnd.google.colaboratory.intrinsic+json": {
              "type": "string"
            }
          },
          "metadata": {},
          "execution_count": 4
        }
      ],
      "source": [
        "#Example 1\n",
        "import array\n",
        "array.typecodes #get all typecodes\n",
        "a=array.array('i',[1,2,3,4,5,6])\n",
        "b=array.array('f',[1.5,2.5,3.5,4.5,5.5,6.5])\n",
        "a.typecode\n",
        "b.typecode\n"
      ]
    },
    {
      "cell_type": "code",
      "source": [
        "#example 2\n",
        "import array\n",
        "a=array.array('i',[1,2,3,4,5])\n",
        "b=array.array('f',a)\n",
        "\n",
        "print(a)\n",
        "print(b)"
      ],
      "metadata": {
        "colab": {
          "base_uri": "https://localhost:8080/"
        },
        "id": "7g9lzxHm6cmm",
        "outputId": "8ed17821-6074-4d0e-916f-168178b58f8c"
      },
      "execution_count": 45,
      "outputs": [
        {
          "output_type": "stream",
          "name": "stdout",
          "text": [
            "array('i', [1, 2, 3, 4, 5])\n",
            "array('f', [1.0, 2.0, 3.0, 4.0, 5.0])\n"
          ]
        }
      ]
    },
    {
      "cell_type": "code",
      "source": [
        "#example 3\n",
        "from array import array\n",
        "a=array('i',[4,5,6,7])\n",
        "a.insert(1,2)\n",
        "a\n",
        "array('i', [4,2,5,6,7])\n",
        "a.insert(-1,0)\n",
        "a\n",
        "a.insert(10,-1)\n",
        "a\n",
        "array('i',[4,2,5,6,0,7,-1])"
      ],
      "metadata": {
        "colab": {
          "base_uri": "https://localhost:8080/"
        },
        "id": "0gl1_437vXHR",
        "outputId": "cf9731a8-ddeb-46bc-ae3d-e004b6e3f597"
      },
      "execution_count": 6,
      "outputs": [
        {
          "output_type": "execute_result",
          "data": {
            "text/plain": [
              "array('i', [4, 2, 5, 6, 0, 7, -1])"
            ]
          },
          "metadata": {},
          "execution_count": 6
        }
      ]
    },
    {
      "cell_type": "code",
      "source": [
        "#Example 4\n",
        "class Node:\n",
        "\n",
        "  def __init__(self,data):\n",
        "    self.data=data\n",
        "    self.next= None\n",
        "\n",
        "class LinkedList:\n",
        "  def __init__(self):\n",
        "    self.head=None\n",
        "\n",
        "  def printlist(self):\n",
        "    temp = self.head\n",
        "    while(temp):\n",
        "      print(temp.data)\n",
        "      temp = temp.next\n",
        "\n",
        "if __name__=='__main__':\n",
        "  llist=LinkedList()\n",
        "\n",
        "  llist.head=Node(1)\n",
        "  second=Node(2)\n",
        "  third=Node(3)\n",
        "\n",
        "  llist.head.next=second;\n",
        "  second.next=third;\n",
        "\n",
        "llist.printlist()"
      ],
      "metadata": {
        "colab": {
          "base_uri": "https://localhost:8080/"
        },
        "id": "v2BNr5tnzLek",
        "outputId": "31935830-ff7a-481e-e023-0924bf9958e5"
      },
      "execution_count": 29,
      "outputs": [
        {
          "output_type": "stream",
          "name": "stdout",
          "text": [
            "1\n",
            "2\n",
            "3\n"
          ]
        }
      ]
    },
    {
      "cell_type": "code",
      "source": [
        "class Node:\n",
        "\n",
        "  def __init__(self,data):\n",
        "    self.data=data\n",
        "    self.next= None\n",
        "    self.prev = None\n",
        "\n",
        "class LinkedList:\n",
        "  def __init__(self):\n",
        "    self.head=None\n",
        "    self.tail=None\n",
        "\n",
        "  def printlist(self):\n",
        "    temp = self.head\n",
        "    while(temp):\n",
        "      print(temp.data)\n",
        "      temp = temp.next\n",
        "\n",
        "    temp = self.tail\n",
        "    while(temp):\n",
        "      print(temp.data)\n",
        "      temp = temp.prev\n",
        "\n",
        "if __name__=='__main__':\n",
        "  llist=LinkedList()\n",
        "\n",
        "  llist.head=Node(1)\n",
        "  second=Node(2)\n",
        "  llist.tail=Node(3)\n",
        "\n",
        "  llist.head.next=second;\n",
        "  llist.tail.prev=second;\n",
        "  second.prev=llist.head;\n",
        "\n",
        "\n",
        "llist.printlist()"
      ],
      "metadata": {
        "colab": {
          "base_uri": "https://localhost:8080/"
        },
        "id": "vnobehXm392V",
        "outputId": "5a4610cc-d932-4467-f11c-159e0a24dc0c"
      },
      "execution_count": 68,
      "outputs": [
        {
          "output_type": "stream",
          "name": "stdout",
          "text": [
            "1\n",
            "2\n",
            "3\n",
            "2\n",
            "1\n"
          ]
        }
      ]
    }
  ]
}