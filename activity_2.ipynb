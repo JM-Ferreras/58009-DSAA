{
  "nbformat": 4,
  "nbformat_minor": 0,
  "metadata": {
    "colab": {
      "provenance": [],
      "authorship_tag": "ABX9TyP0ykCYsKoloiLcadAtW9Ia",
      "include_colab_link": true
    },
    "kernelspec": {
      "name": "python3",
      "display_name": "Python 3"
    },
    "language_info": {
      "name": "python"
    }
  },
  "cells": [
    {
      "cell_type": "markdown",
      "metadata": {
        "id": "view-in-github",
        "colab_type": "text"
      },
      "source": [
        "<a href=\"https://colab.research.google.com/github/JM-Ferreras/58009-DSAA/blob/main/activity_2.ipynb\" target=\"_parent\"><img src=\"https://colab.research.google.com/assets/colab-badge.svg\" alt=\"Open In Colab\"/></a>"
      ]
    },
    {
      "cell_type": "code",
      "source": [
        "#By JM Ferreras\n",
        "class Node:\n",
        "    def __init__(self, data):\n",
        "        self.data = data\n",
        "        self.next = None\n",
        "        self.prev = None\n",
        "\n",
        "class LinkedList:\n",
        "    def __init__(self):\n",
        "        self.head = None\n",
        "        self.tail = None\n",
        "\n",
        "    def new_linked_list(self, array):\n",
        "        if not array:\n",
        "            return\n",
        "\n",
        "        self.head = Node(array[0])\n",
        "        self.tail = self.head\n",
        "        current = self.head\n",
        "\n",
        "        for value in array[1:]:\n",
        "            bagongnode = Node(value)\n",
        "            current.next = bagongnode\n",
        "            bagongnode.prev = current\n",
        "            current = bagongnode\n",
        "            self.tail = bagongnode\n",
        "\n",
        "    def print_head_and_tail(self):\n",
        "        if self.head is None or self.tail is None:\n",
        "            print(\"The linked list is empty.\")\n",
        "        else:\n",
        "            print(\"Head:\", self.head.data)\n",
        "            print(\"Tail:\", self.tail.data)\n",
        "\n",
        "    def printlist(self):\n",
        "        temp = self.head\n",
        "        while temp:\n",
        "            print(\"Node:\", temp.data)\n",
        "            temp = temp.next\n",
        "\n",
        "if __name__ == '__main__':\n",
        "    array = []\n",
        "    for nums in range(2, 21):\n",
        "        prime = True\n",
        "        for i in range(2, nums):\n",
        "            if nums % i == 0:\n",
        "                prime = False\n",
        "                break\n",
        "        if prime:\n",
        "            array.append(nums)\n",
        "\n",
        "    linkedlist = LinkedList()\n",
        "    linkedlist.new_linked_list(array)\n",
        "    linkedlist.print_head_and_tail()\n",
        "    linkedlist.printlist()"
      ],
      "metadata": {
        "colab": {
          "base_uri": "https://localhost:8080/"
        },
        "id": "RcheU0w9gLCt",
        "outputId": "35a591f5-65e1-4478-ac70-93d04c5ff3f6"
      },
      "execution_count": 56,
      "outputs": [
        {
          "output_type": "stream",
          "name": "stdout",
          "text": [
            "Head: 2\n",
            "Tail: 19\n",
            "Node: 2\n",
            "Node: 3\n",
            "Node: 5\n",
            "Node: 7\n",
            "Node: 11\n",
            "Node: 13\n",
            "Node: 17\n",
            "Node: 19\n"
          ]
        }
      ]
    }
  ]
}