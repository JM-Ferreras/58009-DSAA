{
  "nbformat": 4,
  "nbformat_minor": 0,
  "metadata": {
    "colab": {
      "provenance": [],
      "authorship_tag": "ABX9TyPywWmNe4qHzbu+F42Ebkiu",
      "include_colab_link": true
    },
    "kernelspec": {
      "name": "python3",
      "display_name": "Python 3"
    },
    "language_info": {
      "name": "python"
    }
  },
  "cells": [
    {
      "cell_type": "markdown",
      "metadata": {
        "id": "view-in-github",
        "colab_type": "text"
      },
      "source": [
        "<a href=\"https://colab.research.google.com/github/JM-Ferreras/58009-DSAA/blob/main/Prelim_Exam.ipynb\" target=\"_parent\"><img src=\"https://colab.research.google.com/assets/colab-badge.svg\" alt=\"Open In Colab\"/></a>"
      ]
    },
    {
      "cell_type": "code",
      "execution_count": 5,
      "metadata": {
        "colab": {
          "base_uri": "https://localhost:8080/"
        },
        "id": "9k6ODD6x-hkC",
        "outputId": "e4ba6a10-5a9b-49a2-b8a7-a47e7cf1f449"
      },
      "outputs": [
        {
          "output_type": "stream",
          "name": "stdout",
          "text": [
            "Test Scores: [26, 49, 98, 87, 62, 75]\n",
            "Total of Scores: 397\n",
            "Sorted: [26, 49, 62, 75, 87, 98]\n"
          ]
        }
      ],
      "source": [
        "#Open your Python (Pycharm or Colab) or Dev C++ to create the source code for adding the test scores 26, 49, 98, 87, 62, 75 (30 points)\n",
        "#Create a program to sort the test scores in ascending order (20 points)\n",
        "#Draw the appropriate flowchart and save it as a pdf (format: Prelim.pdf) that should be uploaded here. (20 points)\n",
        "#Save your source code as Prelim Exam (Prelim Exam.ipynb/ Prelim Exam.py) in your GitHub\n",
        "#Send your GitHub link here before submitting.\n",
        "\n",
        "\n",
        "arr=[26, 49, 98, 87, 62, 75]\n",
        "print('Test Scores:', arr)\n",
        "total=sum(arr)\n",
        "print('Total of Scores:', total)\n",
        "arr.sort()\n",
        "print('Sorted:', arr)"
      ]
    }
  ]
}