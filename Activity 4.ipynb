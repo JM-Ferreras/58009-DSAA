{
  "nbformat": 4,
  "nbformat_minor": 0,
  "metadata": {
    "colab": {
      "provenance": [],
      "authorship_tag": "ABX9TyN95bRnDSLk7RdD3DeE5vWL",
      "include_colab_link": true
    },
    "kernelspec": {
      "name": "python3",
      "display_name": "Python 3"
    },
    "language_info": {
      "name": "python"
    }
  },
  "cells": [
    {
      "cell_type": "markdown",
      "metadata": {
        "id": "view-in-github",
        "colab_type": "text"
      },
      "source": [
        "<a href=\"https://colab.research.google.com/github/JM-Ferreras/58009-DSAA/blob/main/Activity%204.ipynb\" target=\"_parent\"><img src=\"https://colab.research.google.com/assets/colab-badge.svg\" alt=\"Open In Colab\"/></a>"
      ]
    },
    {
      "cell_type": "code",
      "execution_count": 7,
      "metadata": {
        "colab": {
          "base_uri": "https://localhost:8080/"
        },
        "id": "aaq65WhpwyGx",
        "outputId": "018daa86-c857-41e1-9a5b-aca0bf5603df"
      },
      "outputs": [
        {
          "output_type": "stream",
          "name": "stdout",
          "text": [
            "['I', 'Am', 'Not', 'So', 'Pogi']\n",
            "['I', 'Am', 'So', 'Pogi']\n"
          ]
        }
      ],
      "source": [
        "queue = []\n",
        "queue.append('I')\n",
        "queue.append('Am')\n",
        "queue.append('Not')\n",
        "queue.append('So')\n",
        "queue.append('Pogi')\n",
        "\n",
        "print(queue)\n",
        "queue.pop(2)\n",
        "print(queue)\n"
      ]
    },
    {
      "cell_type": "code",
      "source": [
        "queue=[]\n",
        "def Queue():\n",
        "    if len(queue)==size:\n",
        "        print(\"Cannot queue further\")\n",
        "    else:\n",
        "        num=input(\"Input:\")\n",
        "        queue.append(num)\n",
        "        print(num,\"has been added\")\n",
        "def unqueue():\n",
        "    if not queue:#\n",
        "        print(\"It is empty\")\n",
        "    else:\n",
        "        remnum=int(input(\"Input number slot to be cleared:\"))\n",
        "        removed=queue.pop(remnum)\n",
        "        print(\"Removed element:\",removed)\n",
        "def Display():\n",
        "    print(queue)\n",
        "\n",
        "size=int(input(\"Enter size of Queue:\"))\n",
        "while True:\n",
        "  print(\"Do you want to:   Add    Delete    Display    Quit\")\n",
        "  choice=str(input())\n",
        "  if choice==\"Add\":\n",
        "      Queue()\n",
        "  elif choice==\"Delete\":\n",
        "      unqueue()\n",
        "  elif choice==\"Display\":\n",
        "      Display()\n",
        "  elif choice==\"Quit\":\n",
        "      break\n",
        "  else:\n",
        "      print(\"Invalid Option!!!\")"
      ],
      "metadata": {
        "colab": {
          "base_uri": "https://localhost:8080/"
        },
        "id": "CXlqnwZp1USc",
        "outputId": "ed278a9a-5e2b-4bfa-9f35-81ef935c642a"
      },
      "execution_count": 22,
      "outputs": [
        {
          "name": "stdout",
          "output_type": "stream",
          "text": [
            "Enter size of Queue:6\n",
            "Do you want to:   Add    Delete    Display    Quit\n",
            "Add\n",
            "Input:1\n",
            "1 has been added\n",
            "Do you want to:   Add    Delete    Display    Quit\n",
            "Add\n",
            "Input:2\n",
            "2 has been added\n",
            "Do you want to:   Add    Delete    Display    Quit\n",
            "Delete\n",
            "Input number slot to be cleared:1\n",
            "Removed element: 2\n",
            "Do you want to:   Add    Delete    Display    Quit\n",
            "Quit\n"
          ]
        }
      ]
    }
  ]
}