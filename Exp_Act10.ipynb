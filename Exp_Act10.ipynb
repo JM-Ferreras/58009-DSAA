{
  "nbformat": 4,
  "nbformat_minor": 0,
  "metadata": {
    "colab": {
      "provenance": [],
      "authorship_tag": "ABX9TyO0qX0M0EwqehvsX/7ClpgR",
      "include_colab_link": true
    },
    "kernelspec": {
      "name": "python3",
      "display_name": "Python 3"
    },
    "language_info": {
      "name": "python"
    }
  },
  "cells": [
    {
      "cell_type": "markdown",
      "metadata": {
        "id": "view-in-github",
        "colab_type": "text"
      },
      "source": [
        "<a href=\"https://colab.research.google.com/github/JM-Ferreras/58009-DSAA/blob/main/Exp_Act10.ipynb\" target=\"_parent\"><img src=\"https://colab.research.google.com/assets/colab-badge.svg\" alt=\"Open In Colab\"/></a>"
      ]
    },
    {
      "cell_type": "code",
      "execution_count": 2,
      "metadata": {
        "colab": {
          "base_uri": "https://localhost:8080/"
        },
        "id": "dG-jGFNq1R0t",
        "outputId": "43868784-51ea-4bca-947a-fdb9c284cb6b"
      },
      "outputs": [
        {
          "output_type": "stream",
          "name": "stdout",
          "text": [
            "Price per sack of flour: 330.0\n",
            "Price per pack of yeast: 139.99999999999986\n",
            "Price per egg: 10.00000000000002\n"
          ]
        }
      ],
      "source": [
        "import numpy as np\n",
        "A=np.array([[30, 10, 120],\n",
        "              [40, 20, 200],\n",
        "              [50, 40, 360]])\n",
        "B=np.array([12500,18000,25700])\n",
        "\n",
        "sol=np.linalg.solve(A,B)\n",
        "flourprice=sol[0]\n",
        "yeastprice=sol[1]\n",
        "eggprice=sol[2]\n",
        "print(\"Price per sack of flour:\",flourprice)\n",
        "print(\"Price per pack of yeast:\",yeastprice)\n",
        "print(\"Price per egg:\",eggprice)"
      ]
    }
  ]
}