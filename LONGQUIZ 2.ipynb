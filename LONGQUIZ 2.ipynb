{
  "nbformat": 4,
  "nbformat_minor": 0,
  "metadata": {
    "colab": {
      "provenance": [],
      "authorship_tag": "ABX9TyOpQQjpTIQghbM4dsYhxiVx",
      "include_colab_link": true
    },
    "kernelspec": {
      "name": "python3",
      "display_name": "Python 3"
    },
    "language_info": {
      "name": "python"
    }
  },
  "cells": [
    {
      "cell_type": "markdown",
      "metadata": {
        "id": "view-in-github",
        "colab_type": "text"
      },
      "source": [
        "<a href=\"https://colab.research.google.com/github/JM-Ferreras/58009-DSAA/blob/main/LONGQUIZ%202.ipynb\" target=\"_parent\"><img src=\"https://colab.research.google.com/assets/colab-badge.svg\" alt=\"Open In Colab\"/></a>"
      ]
    },
    {
      "cell_type": "code",
      "execution_count": 16,
      "metadata": {
        "colab": {
          "base_uri": "https://localhost:8080/"
        },
        "id": "VqAO0OgXrwyd",
        "outputId": "ef87b0ab-f3d8-42c2-f6df-2b7fe6696902"
      },
      "outputs": [
        {
          "output_type": "stream",
          "name": "stdout",
          "text": [
            "Edges:\n",
            "[{'E', 'I'}, {'E', 'J'}, {'K', 'E'}, {'M', 'E'}, {'F', 'J'}, {'P', 'F'}, {'K', 'F'}, {'F', 'I'}, {'H', 'J'}, {'H', 'I'}, {'K', 'H'}]\n",
            "Vertices:\n",
            "['E', 'F', 'H', 'I', 'J', 'K', 'M', 'P']\n"
          ]
        }
      ],
      "source": [
        "class graph:\n",
        "   def __init__(self,grpdic=None):\n",
        "      if grpdic is None:\n",
        "         grpdic = {}\n",
        "      self.grpdic = grpdic\n",
        "   def edges(self):\n",
        "      return self.findedges()\n",
        "   def findedges(self):\n",
        "      print(\"Edges:\")\n",
        "      edges = []\n",
        "      for vert in self.grpdic:\n",
        "         for nxtvert in self.grpdic[vert]:\n",
        "            if {nxtvert, vert} not in edges:\n",
        "              edges.append({vert, nxtvert})\n",
        "\n",
        "      return edges\n",
        "\n",
        "graph_elements = {\n",
        "   'E' : ['I','J','K','M'],\n",
        "   'F' : ['J','P','K','I'],\n",
        "   'H' : ['J','I','K'],\n",
        "   'I' : ['H','F','E'],\n",
        "   'J' : ['E','H','F'],\n",
        "   'K' : ['E','H','F'],\n",
        "   'M' : ['E'],\n",
        "   'P' : ['F']\n",
        "}\n",
        "g = graph(graph_elements)\n",
        "print(g.edges())\n",
        "print(\"Vertices:\")\n",
        "print(list(graph_elements))"
      ]
    }
  ]
}