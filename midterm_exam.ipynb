{
  "nbformat": 4,
  "nbformat_minor": 0,
  "metadata": {
    "colab": {
      "provenance": [],
      "authorship_tag": "ABX9TyN5Q5+v5wUWpg+kr8v6O5eX",
      "include_colab_link": true
    },
    "kernelspec": {
      "name": "python3",
      "display_name": "Python 3"
    },
    "language_info": {
      "name": "python"
    }
  },
  "cells": [
    {
      "cell_type": "markdown",
      "metadata": {
        "id": "view-in-github",
        "colab_type": "text"
      },
      "source": [
        "<a href=\"https://colab.research.google.com/github/JM-Ferreras/58009-DSAA/blob/main/midterm_exam.ipynb\" target=\"_parent\"><img src=\"https://colab.research.google.com/assets/colab-badge.svg\" alt=\"Open In Colab\"/></a>"
      ]
    },
    {
      "cell_type": "code",
      "execution_count": 4,
      "metadata": {
        "colab": {
          "base_uri": "https://localhost:8080/"
        },
        "id": "vPtDRT4PIDdy",
        "outputId": "49655d10-330b-4a8e-d2bd-6d9fe0db5bb4"
      },
      "outputs": [
        {
          "output_type": "stream",
          "name": "stdout",
          "text": [
            "[{'B', 'A'}, {'B', 'E'}, {'B', 'F'}, {'B', 'C'}, {'E', 'C'}, {'F', 'C'}, {'C', 'M'}, {'I', 'C'}, {'D', 'C'}, {'D', 'L'}, {'K', 'D'}, {'E', 'N'}, {'F', 'G'}, {'I', 'F'}, {'I', 'G'}, {'J', 'G'}, {'I', 'K'}, {'I', 'J'}, {'K', 'J'}, {'L', 'P'}, {'L', 'M'}, {'M', 'N'}, {'M', 'O'}, {'M', 'P'}, {'N', 'O'}, {'P', 'O'}]\n"
          ]
        }
      ],
      "source": [
        "class graph:\n",
        "   def __init__(self,gdict=None):\n",
        "      if gdict is None:\n",
        "         gdict = {}\n",
        "      self.gdict = gdict\n",
        "\n",
        "   def edges(self):\n",
        "      return self.findedges()\n",
        "# Find the distinct list of edges\n",
        "   def findedges(self):\n",
        "      edgename = []\n",
        "      for vrtx in self.gdict:\n",
        "         for nxtvrtx in self.gdict[vrtx]:\n",
        "            if {nxtvrtx, vrtx} not in edgename:\n",
        "               edgename.append({vrtx, nxtvrtx})\n",
        "      return edgename\n",
        "# Create the dictionary with graph elements\n",
        "graph_elements = {\n",
        "   \"A\" : ['B'],\n",
        "   \"B\" : ['A','E','F','C'],\n",
        "   \"C\" : ['B','E','F','M','I','D'],\n",
        "   \"D\" : ['C','L','K'],\n",
        "   \"E\" : ['B','C','N'],\n",
        "   \"F\" : ['B','C','G','I'],\n",
        "   \"G\" : ['F','I','J'],\n",
        "   \"I\" : ['F','C','K','J','G'],\n",
        "   \"J\" : ['K','I','G'],\n",
        "   \"K\" : ['D','I','J'],\n",
        "   \"L\" : ['P','M','D'],\n",
        "   \"M\" : ['N','O','P','C','L'],\n",
        "   \"N\" : ['O','M','E'],\n",
        "   \"O\" : ['N','P','M'],\n",
        "   \"P\" : ['O','M','L'],\n",
        "\n",
        "}\n",
        "g = graph(graph_elements)\n",
        "print(g.edges())\n",
        "\n"
      ]
    }
  ]
}