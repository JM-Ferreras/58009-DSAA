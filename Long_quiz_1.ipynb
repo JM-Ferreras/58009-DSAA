{
  "nbformat": 4,
  "nbformat_minor": 0,
  "metadata": {
    "colab": {
      "provenance": [],
      "authorship_tag": "ABX9TyOezWgML7saxfAJPHLUiPV7",
      "include_colab_link": true
    },
    "kernelspec": {
      "name": "python3",
      "display_name": "Python 3"
    },
    "language_info": {
      "name": "python"
    }
  },
  "cells": [
    {
      "cell_type": "markdown",
      "metadata": {
        "id": "view-in-github",
        "colab_type": "text"
      },
      "source": [
        "<a href=\"https://colab.research.google.com/github/JM-Ferreras/58009-DSAA/blob/main/Long_quiz_1.ipynb\" target=\"_parent\"><img src=\"https://colab.research.google.com/assets/colab-badge.svg\" alt=\"Open In Colab\"/></a>"
      ]
    },
    {
      "cell_type": "code",
      "execution_count": 25,
      "metadata": {
        "colab": {
          "base_uri": "https://localhost:8080/"
        },
        "id": "8HJlfJXj6MVu",
        "outputId": "5be5df59-1923-41ae-d7c1-0ec3b0202832"
      },
      "outputs": [
        {
          "output_type": "stream",
          "name": "stdout",
          "text": [
            "Name: Juan Miguel A Ferreras\n",
            "Reversed:\n",
            "s\n",
            "a\n",
            "r\n",
            "e\n",
            "r\n",
            "r\n",
            "e\n",
            "F\n",
            " \n",
            "A\n",
            " \n",
            "l\n",
            "e\n",
            "u\n",
            "g\n",
            "i\n",
            "M\n",
            " \n",
            "n\n",
            "a\n",
            "u\n",
            "J\n"
          ]
        }
      ],
      "source": [
        "import array\n",
        "str=\"Juan Miguel A Ferreras\"\n",
        "array = [*str]\n",
        "l=len(str)-1\n",
        "print(\"Name:\", str)\n",
        "print(\"Reversed:\")\n",
        "i=0\n",
        "while i<=l:\n",
        "  a=21-i\n",
        "  print(array[a])\n",
        "  i+=1\n"
      ]
    },
    {
      "cell_type": "code",
      "source": [
        "def is_prime(n):\n",
        "    if n <= 1:\n",
        "        return False\n",
        "    elif n <= 3:\n",
        "        return True\n",
        "    elif n % 2 == 0 or n % 3 == 0:\n",
        "        return False\n",
        "    i = 5\n",
        "    while i * i <= n:\n",
        "        if n % i == 0 or n % (i + 2) == 0:\n",
        "            return False\n",
        "        i += 6\n",
        "    return True\n",
        "\n",
        "def main():\n",
        "    numbers = list(range(1, 11))\n",
        "    prime_numbers = []\n",
        "    composite_numbers = []\n",
        "\n",
        "    for num in numbers:\n",
        "        if is_prime(num):\n",
        "            prime_numbers.append(num)\n",
        "        else:\n",
        "            composite_numbers.append(num)\n",
        "\n",
        "    print(\"Prime numbers:\", prime_numbers)\n",
        "    print(\"Composite numbers:\", composite_numbers)\n",
        "\n",
        "if __name__ == \"__main__\":\n",
        "    main()"
      ],
      "metadata": {
        "colab": {
          "base_uri": "https://localhost:8080/"
        },
        "id": "-QMfSDn-L08V",
        "outputId": "5e7b89e6-a6ba-4d8d-ed4b-e4c740698bed"
      },
      "execution_count": 72,
      "outputs": [
        {
          "output_type": "stream",
          "name": "stdout",
          "text": [
            "Prime numbers: [2, 3, 5, 7]\n",
            "Composite numbers: [1, 4, 6, 8, 9, 10]\n"
          ]
        }
      ]
    }
  ]
}